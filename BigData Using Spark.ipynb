{
 "cells": [
  {
   "cell_type": "code",
   "execution_count": 1,
   "metadata": {},
   "outputs": [],
   "source": [
    "import findspark\n",
    "findspark.init('C:\\spark\\spark')\n",
    "from pyspark import SparkContext \n",
    "from pyspark.sql import SQLContext \n",
    "import pandas as pd \n",
    "from pyspark.mllib.stat import Statistics"
   ]
  },
  {
   "cell_type": "code",
   "execution_count": 2,
   "metadata": {},
   "outputs": [],
   "source": [
    "sc = SparkContext('local','NIDS')\n",
    "sqlc=SQLContext(sc) \n",
    "df=pd.read_csv(r'UNSW_NB15_training-set.csv') \n",
    "sdf=sqlc.createDataFrame(df)"
   ]
  },
  {
   "cell_type": "code",
   "execution_count": 3,
   "metadata": {},
   "outputs": [
    {
     "data": {
      "text/plain": [
       "DataFrame[id: bigint, dur: double, proto: string, service: string, state: string, spkts: bigint, dpkts: bigint, sbytes: bigint, dbytes: bigint, rate: double, sttl: bigint, dttl: bigint, sload: double, dload: double, sloss: bigint, dloss: bigint, sinpkt: double, dinpkt: double, sjit: double, djit: double, swin: bigint, stcpb: bigint, dtcpb: bigint, dwin: bigint, tcprtt: double, synack: double, ackdat: double, smean: bigint, dmean: bigint, trans_depth: bigint, response_body_len: bigint, ct_srv_src: bigint, ct_state_ttl: bigint, ct_dst_ltm: bigint, ct_src_dport_ltm: bigint, ct_dst_sport_ltm: bigint, ct_dst_src_ltm: bigint, is_ftp_login: bigint, ct_ftp_cmd: bigint, ct_flw_http_mthd: bigint, ct_src_ltm: bigint, ct_srv_dst: bigint, is_sm_ips_ports: bigint, attack_cat: string, label: bigint]"
      ]
     },
     "execution_count": 3,
     "metadata": {},
     "output_type": "execute_result"
    }
   ],
   "source": [
    "sdf"
   ]
  },
  {
   "cell_type": "code",
   "execution_count": 4,
   "metadata": {},
   "outputs": [
    {
     "name": "stdout",
     "output_type": "stream",
     "text": [
      "+---+-------------------+-----+-------+-----+-----+-----+------+------+------------------+----+----+------------------+------------------+-----+-----+------------------+------------------+------------------+------------------+----+----------+----------+----+-------------------+--------------------+--------------------+-----+-----+-----------+-----------------+----------+------------+----------+----------------+----------------+--------------+------------+----------+----------------+----------+----------+---------------+----------+-----+\n",
      "| id|                dur|proto|service|state|spkts|dpkts|sbytes|dbytes|              rate|sttl|dttl|             sload|             dload|sloss|dloss|            sinpkt|            dinpkt|              sjit|              djit|swin|     stcpb|     dtcpb|dwin|             tcprtt|              synack|              ackdat|smean|dmean|trans_depth|response_body_len|ct_srv_src|ct_state_ttl|ct_dst_ltm|ct_src_dport_ltm|ct_dst_sport_ltm|ct_dst_src_ltm|is_ftp_login|ct_ftp_cmd|ct_flw_http_mthd|ct_src_ltm|ct_srv_dst|is_sm_ips_ports|attack_cat|label|\n",
      "+---+-------------------+-----+-------+-----+-----+-----+------+------+------------------+----+----+------------------+------------------+-----+-----+------------------+------------------+------------------+------------------+----+----------+----------+----+-------------------+--------------------+--------------------+-----+-----+-----------+-----------------+----------+------------+----------+----------------+----------------+--------------+------------+----------+----------------+----------+----------+---------------+----------+-----+\n",
      "|  1|           0.121478|  tcp|      -|  FIN|    6|    4|   258|   172|          74.08749| 252| 254|       14158.94238|       8495.365234|    0|    0|           24.2956|             8.375|30.177546999999997|         11.830604| 255| 621772692|2202533631| 255|                0.0|                 0.0|                 0.0|   43|   43|          0|                0|         1|           0|         1|               1|               1|             1|           0|         0|               0|         1|         1|              0|    Normal|    0|\n",
      "|  2| 0.6499020000000001|  tcp|      -|  FIN|   14|   38|   734| 42014|         78.473372|  62| 252|       8395.112305|       503571.3125|    2|   17|            49.915|         15.432865|61.426933999999996|        1387.77833| 255|1417884146|3077387971| 255|                0.0|                 0.0|                 0.0|   52| 1106|          0|                0|        43|           1|         1|               1|               1|             2|           0|         0|               0|         1|         6|              0|    Normal|    0|\n",
      "|  3|           1.623129|  tcp|      -|  FIN|    8|   16|   364| 13186|14.170160999999998|  62| 252|       1572.271851|       60929.23047|    1|    6|        231.875571|102.73720300000001|       17179.58686|       11420.92623| 255|2116150707|2963114973| 255|           0.111897|0.061458000000000006|            0.050439|   46|  824|          0|                0|         7|           1|         2|               1|               1|             3|           0|         0|               0|         2|         6|              0|    Normal|    0|\n",
      "|  4| 1.6816419999999999|  tcp|    ftp|  FIN|   12|   12|   628|   770|13.677107999999999|  62| 252|       2740.178955|3358.6220700000003|    1|    3|        152.876547|         90.235726|        259.080172|       4991.784669| 255|1107119177|1047442890| 255|                0.0|                 0.0|                 0.0|   52|   64|          0|                0|         1|           1|         2|               1|               1|             3|           1|         1|               0|         2|         1|              0|    Normal|    0|\n",
      "|  5|           0.449454|  tcp|      -|  FIN|   10|    6|   534|   268|         33.373826| 254| 252|       8561.499023|       3987.059814|    2|    1|47.750333000000005|         75.659602|       2415.837634|           115.807| 255|2436137549|1977154190| 255|           0.128381|            0.071147|            0.057234|   53|   45|          0|                0|        43|           1|         2|               2|               1|            40|           0|         0|               0|         2|        39|              0|    Normal|    0|\n",
      "|  6|           0.380537|  tcp|      -|  FIN|   10|    6|   534|   268|          39.41798| 254| 252|       10112.02539| 4709.134765999999|    2|    1|         39.928778| 52.24100000000001|2223.7303420000003|           82.5505| 255|3984155503|1796040391| 255|           0.172934| 0.11933099999999999|            0.053603|   53|   45|          0|                0|        43|           1|         2|               2|               1|            40|           0|         0|               0|         2|        39|              0|    Normal|    0|\n",
      "|  7|           0.637109|  tcp|      -|  FIN|   10|    8|   534|   354|26.683033000000002| 254| 252|       6039.783203|        3892.58374|    2|    1|         68.267778|         81.137711| 4286.828570000001|        119.422719| 255|1787309226|1767180493| 255|           0.143337|            0.069136|            0.074201|   53|   44|          0|                0|        43|           1|         1|               1|               1|            40|           0|         0|               0|         1|        39|              0|    Normal|    0|\n",
      "|  8|           0.521584|  tcp|      -|  FIN|   10|    8|   534|   354|         32.593026| 254| 252|       7377.527344|        4754.74707|    2|    1|            55.794|         66.054141|3770.5807259999997|118.96263300000001| 255| 205985702| 316006300| 255|0.11661500000000001|0.059195000000000005|0.057420000000000006|   53|   44|          0|                0|        43|           1|         3|               3|               1|            40|           0|         0|               0|         3|        39|              0|    Normal|    0|\n",
      "|  9|           0.542905|  tcp|      -|  FIN|   10|    8|   534|   354|         31.313031| 254| 252|       7087.796387|       4568.018555|    2|    1|         60.210889|            68.109|4060.6255969999997|        106.611547| 255| 884094874|3410317203| 255|           0.118584|            0.066133|            0.052451|   53|   44|          0|                0|        43|           1|         3|               3|               1|            40|           0|         0|               0|         3|        39|              0|    Normal|    0|\n",
      "| 10|           0.258687|  tcp|      -|  FIN|   10|    6|   534|   268|         57.985135| 254| 252|       14875.12012| 6927.291015999999|    2|    1|         27.505111|39.106801000000004|1413.6864150000001| 57.20039499999999| 255|3368447996| 584859215| 255|           0.087934| 0.06311599999999999|            0.024818|   53|   45|          0|                0|        43|           1|         3|               3|               1|            40|           0|         0|               0|         3|        39|              0|    Normal|    0|\n",
      "| 11|0.30485300000000004|  tcp|      -|  FIN|   12|    6|  4142|   268|55.764582999999995| 254| 252|       99641.46875|       5878.243164|    3|    1|         25.948818|         53.668801|       1471.649189|         80.404844| 255| 137150292|2604092885| 255|           0.097761|            0.036508|0.061252999999999995|  345|   45|          0|                0|        11|           1|         1|               1|               1|             3|           0|         0|               0|         1|         6|              0|    Normal|    0|\n",
      "| 12|           2.093085|  tcp|   smtp|  FIN|   62|   28| 56329|  2212|         42.520967|  62| 252|        211825.125| 8152.559081999999|   28|    8|         34.312868|         75.092445|       3253.278833|        106.113453| 255|1824722662| 860716719| 255|            0.13114|0.052851999999999996|            0.078288|  909|   79|          0|                0|         2|           1|         1|               1|               1|             2|           0|         0|               0|         1|         1|              0|    Normal|    0|\n",
      "| 13|0.41695200000000004|  tcp|      -|  FIN|   10|    6|   534|   268|         35.975363| 254| 252|       9228.879883|       4297.856445|    2|    1|45.088778000000005|         64.481199|       2610.908343|         99.860875| 255|  88408021|3711983528| 255|0.22097600000000003|            0.094537| 0.12643900000000002|   53|   45|          0|                0|        43|           1|         1|               1|               1|            40|           0|         0|               0|         1|        39|              0|    Normal|    0|\n",
      "| 14| 0.9962209999999999|  tcp|      -|  FIN|   10|    8|   564|   354|         17.064487| 254| 252|4079.4160159999997|       2489.407471|    2|    1|        110.691222|            131.48|       6542.815197|        202.433047| 255|2321780530|2975132930| 255|           0.169226|             0.07516|            0.094066|   56|   44|          0|                0|        11|           1|         1|               1|               1|             3|           0|         0|               0|         2|         3|              0|    Normal|    0|\n",
      "| 15|           0.576755|  tcp|      -|  FIN|   10|    8|   534|   354|         29.475254| 254| 252|       6671.810547|       4299.919434|    2|    1|         64.083889|          72.27157|       4194.544962|116.49323400000002| 255|3772251972|4281731981| 255|           0.113311|            0.050849|0.062462000000000004|   53|   44|          0|                0|        43|           1|         1|               1|               1|            40|           0|         0|               0|         1|        39|              0|    Normal|    0|\n",
      "| 16|             2.0E-6|  udp|   snmp|  INT|    2|    0|   138|     0|       500000.0013| 254|   0|            2.76E8|               0.0|    0|    0|             0.002|               0.0|               0.0|               0.0|   0|         0|         0|   0|                0.0|                 0.0|                 0.0|   69|    0|          0|                0|         1|           2|         1|               1|               1|             4|           0|         0|               0|         2|         1|              0|    Normal|    0|\n",
      "| 17|           0.728252|  tcp|      -|  FIN|   10|    6|   534|   268|         20.597266| 254| 252|       5283.885254|       2460.686768|    2|    1|         80.916889|        122.462203|       5333.802207|231.80179700000002| 255|1735938977|4242381139| 255|           0.134571| 0.07998200000000001|            0.054589|   53|   45|          0|                0|        43|           1|         2|               2|               1|            40|           0|         0|               0|         2|        39|              0|    Normal|    0|\n",
      "| 18|           0.393556|  tcp|   http|  FIN|   10|    8|   860|  1096|         43.195886|  62| 252|       15733.46582|       19494.04883|    2|    2|         43.728444|         47.669145|       2124.837873|         71.805867| 255|3882971404|3084071099| 255|0.12031300000000002|            0.059201|            0.061112|   86|  137|          1|              103|         3|           1|         1|               1|               1|             2|           0|         0|               1|         1|         3|              0|    Normal|    0|\n",
      "| 19|           0.387852|  tcp|      -|  FIN|   10|    6|   534|   268|         38.674545| 254| 252|        9921.30957|       4620.318848|    2|    1|         38.119667| 68.27920300000001|       2226.182762|        105.440859| 255| 527350728|2602577308| 255|           0.115979|            0.046445|            0.069534|   53|   45|          0|                0|        43|           1|         2|               2|               1|            40|           0|         0|               0|         2|        39|              0|    Normal|    0|\n",
      "| 20|            0.53784|  tcp|      -|  FIN|   10|    8|   534|   354|         31.607913| 254| 252|       7154.543945|       4611.036621|    2|    1| 59.66944399999999| 68.35185899999999|       3893.395914|        104.835672| 255|1082242371| 490886647| 255|           0.114569|            0.059368|            0.055201|   53|   44|          0|                0|        43|           1|         2|               2|               1|            40|           0|         0|               0|         2|        39|              0|    Normal|    0|\n",
      "+---+-------------------+-----+-------+-----+-----+-----+------+------+------------------+----+----+------------------+------------------+-----+-----+------------------+------------------+------------------+------------------+----+----------+----------+----+-------------------+--------------------+--------------------+-----+-----+-----------+-----------------+----------+------------+----------+----------------+----------------+--------------+------------+----------+----------------+----------+----------+---------------+----------+-----+\n",
      "only showing top 20 rows\n",
      "\n"
     ]
    }
   ],
   "source": [
    "sdf.show()"
   ]
  },
  {
   "cell_type": "code",
   "execution_count": 5,
   "metadata": {},
   "outputs": [
    {
     "data": {
      "text/plain": [
       "pyspark.sql.dataframe.DataFrame"
      ]
     },
     "execution_count": 5,
     "metadata": {},
     "output_type": "execute_result"
    }
   ],
   "source": [
    "type(sdf)"
   ]
  },
  {
   "cell_type": "code",
   "execution_count": 6,
   "metadata": {},
   "outputs": [
    {
     "name": "stdout",
     "output_type": "stream",
     "text": [
      "root\n",
      " |-- id: long (nullable = true)\n",
      " |-- dur: double (nullable = true)\n",
      " |-- proto: string (nullable = true)\n",
      " |-- service: string (nullable = true)\n",
      " |-- state: string (nullable = true)\n",
      " |-- spkts: long (nullable = true)\n",
      " |-- dpkts: long (nullable = true)\n",
      " |-- sbytes: long (nullable = true)\n",
      " |-- dbytes: long (nullable = true)\n",
      " |-- rate: double (nullable = true)\n",
      " |-- sttl: long (nullable = true)\n",
      " |-- dttl: long (nullable = true)\n",
      " |-- sload: double (nullable = true)\n",
      " |-- dload: double (nullable = true)\n",
      " |-- sloss: long (nullable = true)\n",
      " |-- dloss: long (nullable = true)\n",
      " |-- sinpkt: double (nullable = true)\n",
      " |-- dinpkt: double (nullable = true)\n",
      " |-- sjit: double (nullable = true)\n",
      " |-- djit: double (nullable = true)\n",
      " |-- swin: long (nullable = true)\n",
      " |-- stcpb: long (nullable = true)\n",
      " |-- dtcpb: long (nullable = true)\n",
      " |-- dwin: long (nullable = true)\n",
      " |-- tcprtt: double (nullable = true)\n",
      " |-- synack: double (nullable = true)\n",
      " |-- ackdat: double (nullable = true)\n",
      " |-- smean: long (nullable = true)\n",
      " |-- dmean: long (nullable = true)\n",
      " |-- trans_depth: long (nullable = true)\n",
      " |-- response_body_len: long (nullable = true)\n",
      " |-- ct_srv_src: long (nullable = true)\n",
      " |-- ct_state_ttl: long (nullable = true)\n",
      " |-- ct_dst_ltm: long (nullable = true)\n",
      " |-- ct_src_dport_ltm: long (nullable = true)\n",
      " |-- ct_dst_sport_ltm: long (nullable = true)\n",
      " |-- ct_dst_src_ltm: long (nullable = true)\n",
      " |-- is_ftp_login: long (nullable = true)\n",
      " |-- ct_ftp_cmd: long (nullable = true)\n",
      " |-- ct_flw_http_mthd: long (nullable = true)\n",
      " |-- ct_src_ltm: long (nullable = true)\n",
      " |-- ct_srv_dst: long (nullable = true)\n",
      " |-- is_sm_ips_ports: long (nullable = true)\n",
      " |-- attack_cat: string (nullable = true)\n",
      " |-- label: long (nullable = true)\n",
      "\n"
     ]
    }
   ],
   "source": [
    "sdf.printSchema()"
   ]
  },
  {
   "cell_type": "code",
   "execution_count": 7,
   "metadata": {},
   "outputs": [
    {
     "name": "stdout",
     "output_type": "stream",
     "text": [
      "+-------+------------------+--------------------+------------------+------------------+------------------+------------------+\n",
      "|summary|             label|              synack|            dbytes|              Sttl|        ct_srv_src|              Dttl|\n",
      "+-------+------------------+--------------------+------------------+------------------+------------------+------------------+\n",
      "|  count|            175341|              175341|            175341|            175341|            175341|            175341|\n",
      "|   mean|0.6806223302022916|0.021020450476500106|14928.918564397374|  179.546996994428| 9.306437170998226| 79.60956650184498|\n",
      "| stddev|0.4662368642329709| 0.04339978350809942|143654.21771787005|102.94001105701703|10.704331220592314|110.50686317659928|\n",
      "|    min|                 0|                 0.0|                 0|                 0|                 1|                 0|\n",
      "|    max|                 1|            2.100352|          14655550|               255|                63|               254|\n",
      "+-------+------------------+--------------------+------------------+------------------+------------------+------------------+\n",
      "\n"
     ]
    }
   ],
   "source": [
    "sdf.describe('label','synack','dbytes','Sttl','ct_srv_src','Dttl').show()"
   ]
  },
  {
   "cell_type": "code",
   "execution_count": 9,
   "metadata": {},
   "outputs": [
    {
     "name": "stdout",
     "output_type": "stream",
     "text": [
      "[[ 1.00000000e+00  5.82989292e-02 -7.68708606e-02  6.92741441e-01\n",
      "   2.29043930e-01  9.50486050e-02]\n",
      " [ 5.82989292e-02  1.00000000e+00  1.01448286e-04  4.25897581e-02\n",
      "  -2.76274751e-01  7.46999694e-01]\n",
      " [-7.68708606e-02  1.01448286e-04  1.00000000e+00 -1.35515187e-01\n",
      "  -4.55293169e-02  2.35588727e-02]\n",
      " [ 6.92741441e-01  4.25897581e-02 -1.35515187e-01  1.00000000e+00\n",
      "   3.46079095e-01 -3.28233995e-02]\n",
      " [ 2.29043930e-01 -2.76274751e-01 -4.55293169e-02  3.46079095e-01\n",
      "   1.00000000e+00 -4.17337850e-01]\n",
      " [ 9.50486050e-02  7.46999694e-01  2.35588727e-02 -3.28233995e-02\n",
      "  -4.17337850e-01  1.00000000e+00]]\n"
     ]
    }
   ],
   "source": [
    "col_fea = sdf.select('label','synack','dbytes','Sttl','ct_srv_src','Dttl')\n",
    "df_rdd = col_fea.rdd.map(lambda row: row[0:])\n",
    "_corr = Statistics.corr(df_rdd,method = 'pearson')\n",
    "print(_corr)"
   ]
  },
  {
   "cell_type": "code",
   "execution_count": 10,
   "metadata": {},
   "outputs": [],
   "source": [
    "from pyspark.sql.functions import corr"
   ]
  },
  {
   "cell_type": "code",
   "execution_count": 11,
   "metadata": {},
   "outputs": [
    {
     "name": "stdout",
     "output_type": "stream",
     "text": [
      "+-------------------+\n",
      "|corr(label, synack)|\n",
      "+-------------------+\n",
      "|0.05829892920859981|\n",
      "+-------------------+\n",
      "\n"
     ]
    }
   ],
   "source": [
    "sdf.select(corr('label','synack')).show()"
   ]
  },
  {
   "cell_type": "code",
   "execution_count": 12,
   "metadata": {},
   "outputs": [
    {
     "name": "stdout",
     "output_type": "stream",
     "text": [
      "+--------------------+\n",
      "| corr(label, dbytes)|\n",
      "+--------------------+\n",
      "|-0.07687086056976948|\n",
      "+--------------------+\n",
      "\n"
     ]
    }
   ],
   "source": [
    "sdf.select(corr('label','dbytes')).show()"
   ]
  },
  {
   "cell_type": "code",
   "execution_count": 13,
   "metadata": {},
   "outputs": [
    {
     "name": "stdout",
     "output_type": "stream",
     "text": [
      "+------------------+\n",
      "| corr(label, Sttl)|\n",
      "+------------------+\n",
      "|0.6927414405810921|\n",
      "+------------------+\n",
      "\n"
     ]
    }
   ],
   "source": [
    "sdf.select(corr('label','Sttl')).show()"
   ]
  },
  {
   "cell_type": "code",
   "execution_count": 14,
   "metadata": {},
   "outputs": [
    {
     "name": "stdout",
     "output_type": "stream",
     "text": [
      "+-----------------------+\n",
      "|corr(label, ct_srv_src)|\n",
      "+-----------------------+\n",
      "|    0.22904392983552418|\n",
      "+-----------------------+\n",
      "\n"
     ]
    }
   ],
   "source": [
    "sdf.select(corr('label','ct_srv_src')).show()"
   ]
  },
  {
   "cell_type": "code",
   "execution_count": 15,
   "metadata": {},
   "outputs": [
    {
     "name": "stdout",
     "output_type": "stream",
     "text": [
      "+-------------------+\n",
      "|  corr(label, Dttl)|\n",
      "+-------------------+\n",
      "|0.09504860499575536|\n",
      "+-------------------+\n",
      "\n"
     ]
    }
   ],
   "source": [
    "sdf.select(corr('label','Dttl')).show()"
   ]
  },
  {
   "cell_type": "code",
   "execution_count": 16,
   "metadata": {},
   "outputs": [
    {
     "name": "stdout",
     "output_type": "stream",
     "text": [
      "+--------------------+\n",
      "|corr(synack, dbytes)|\n",
      "+--------------------+\n",
      "|1.014482864049306...|\n",
      "+--------------------+\n",
      "\n"
     ]
    }
   ],
   "source": [
    "sdf.select(corr('synack','dbytes')).show()"
   ]
  },
  {
   "cell_type": "code",
   "execution_count": 17,
   "metadata": {},
   "outputs": [
    {
     "name": "stdout",
     "output_type": "stream",
     "text": [
      "+--------------------+\n",
      "|  corr(synack, Sttl)|\n",
      "+--------------------+\n",
      "|0.042589758081623796|\n",
      "+--------------------+\n",
      "\n"
     ]
    }
   ],
   "source": [
    "sdf.select(corr('synack','Sttl')).show()"
   ]
  },
  {
   "cell_type": "code",
   "execution_count": 18,
   "metadata": {},
   "outputs": [
    {
     "name": "stdout",
     "output_type": "stream",
     "text": [
      "+------------------------+\n",
      "|corr(synack, ct_srv_src)|\n",
      "+------------------------+\n",
      "|    -0.27627475063298373|\n",
      "+------------------------+\n",
      "\n"
     ]
    }
   ],
   "source": [
    "sdf.select(corr('synack','ct_srv_src')).show()"
   ]
  },
  {
   "cell_type": "code",
   "execution_count": 19,
   "metadata": {},
   "outputs": [
    {
     "name": "stdout",
     "output_type": "stream",
     "text": [
      "+------------------+\n",
      "|corr(synack, Dttl)|\n",
      "+------------------+\n",
      "|0.7469996936368721|\n",
      "+------------------+\n",
      "\n"
     ]
    }
   ],
   "source": [
    "sdf.select(corr('synack','Dttl')).show()"
   ]
  },
  {
   "cell_type": "code",
   "execution_count": 20,
   "metadata": {},
   "outputs": [
    {
     "name": "stdout",
     "output_type": "stream",
     "text": [
      "+-------------------+\n",
      "| corr(dbytes, Sttl)|\n",
      "+-------------------+\n",
      "|-0.1355151870099393|\n",
      "+-------------------+\n",
      "\n"
     ]
    }
   ],
   "source": [
    "sdf.select(corr('dbytes','Sttl')).show()"
   ]
  },
  {
   "cell_type": "code",
   "execution_count": 21,
   "metadata": {},
   "outputs": [
    {
     "name": "stdout",
     "output_type": "stream",
     "text": [
      "+--------------------+\n",
      "|  corr(dbytes, Dttl)|\n",
      "+--------------------+\n",
      "|0.023558872720887036|\n",
      "+--------------------+\n",
      "\n"
     ]
    }
   ],
   "source": [
    "sdf.select(corr('dbytes','Dttl')).show()"
   ]
  },
  {
   "cell_type": "code",
   "execution_count": 22,
   "metadata": {},
   "outputs": [
    {
     "name": "stdout",
     "output_type": "stream",
     "text": [
      "+----------------------+\n",
      "|corr(ct_srv_src, Dttl)|\n",
      "+----------------------+\n",
      "|   -0.4173378502004274|\n",
      "+----------------------+\n",
      "\n"
     ]
    }
   ],
   "source": [
    "sdf.select(corr('ct_srv_src','Dttl')).show()"
   ]
  },
  {
   "cell_type": "code",
   "execution_count": 23,
   "metadata": {},
   "outputs": [
    {
     "name": "stdout",
     "output_type": "stream",
     "text": [
      "+----------------------+\n",
      "|corr(ct_srv_src, Sttl)|\n",
      "+----------------------+\n",
      "|   0.34607909452631314|\n",
      "+----------------------+\n",
      "\n"
     ]
    }
   ],
   "source": [
    "sdf.select(corr('ct_srv_src','Sttl')).show()"
   ]
  },
  {
   "cell_type": "code",
   "execution_count": 24,
   "metadata": {},
   "outputs": [
    {
     "name": "stdout",
     "output_type": "stream",
     "text": [
      "+--------------------+\n",
      "|  corr(dbytes, Dttl)|\n",
      "+--------------------+\n",
      "|0.023558872720887036|\n",
      "+--------------------+\n",
      "\n"
     ]
    }
   ],
   "source": [
    "sdf.select(corr('dbytes','Dttl')).show()"
   ]
  },
  {
   "cell_type": "code",
   "execution_count": 25,
   "metadata": {},
   "outputs": [
    {
     "name": "stdout",
     "output_type": "stream",
     "text": [
      "+--------------------+\n",
      "|  corr(dbytes, Dttl)|\n",
      "+--------------------+\n",
      "|0.023558872720887036|\n",
      "+--------------------+\n",
      "\n"
     ]
    }
   ],
   "source": [
    "sdf.select(corr('dbytes','Dttl')).show()"
   ]
  },
  {
   "cell_type": "code",
   "execution_count": 26,
   "metadata": {},
   "outputs": [
    {
     "name": "stdout",
     "output_type": "stream",
     "text": [
      "+----------------+--------+--------+-----+--------+-------+-------+------+--------------+---------+-----+\n",
      "|label_attack_cat|Analysis|Backdoor|  DoS|Exploits|Fuzzers|Generic|Normal|Reconnaissance|Shellcode|Worms|\n",
      "+----------------+--------+--------+-----+--------+-------+-------+------+--------------+---------+-----+\n",
      "|               1|    2000|    1746|12264|   33393|  18184|  40000|     0|         10491|     1133|  130|\n",
      "|               0|       0|       0|    0|       0|      0|      0| 56000|             0|        0|    0|\n",
      "+----------------+--------+--------+-----+--------+-------+-------+------+--------------+---------+-----+\n",
      "\n"
     ]
    }
   ],
   "source": [
    "sdf.crosstab('label','attack_cat').show()"
   ]
  },
  {
   "cell_type": "code",
   "execution_count": 27,
   "metadata": {},
   "outputs": [
    {
     "name": "stdout",
     "output_type": "stream",
     "text": [
      "+-----+------+----+----------+----+--------------------+\n",
      "|State|dbytes|Sttl|ct_srv_src|Dttl|              synack|\n",
      "+-----+------+----+----------+----+--------------------+\n",
      "|  FIN|   172| 252|         1| 254|                 0.0|\n",
      "|  FIN| 42014|  62|        43| 252|                 0.0|\n",
      "|  FIN| 13186|  62|         7| 252|0.061458000000000006|\n",
      "|  FIN|   770|  62|         1| 252|                 0.0|\n",
      "|  FIN|   268| 254|        43| 252|            0.071147|\n",
      "|  FIN|   268| 254|        43| 252| 0.11933099999999999|\n",
      "|  FIN|   354| 254|        43| 252|            0.069136|\n",
      "|  FIN|   354| 254|        43| 252|0.059195000000000005|\n",
      "|  FIN|   354| 254|        43| 252|            0.066133|\n",
      "|  FIN|   268| 254|        43| 252| 0.06311599999999999|\n",
      "|  FIN|   268| 254|        11| 252|            0.036508|\n",
      "|  FIN|  2212|  62|         2| 252|0.052851999999999996|\n",
      "|  FIN|   268| 254|        43| 252|            0.094537|\n",
      "|  FIN|   354| 254|        11| 252|             0.07516|\n",
      "|  FIN|   354| 254|        43| 252|            0.050849|\n",
      "|  INT|     0| 254|         1|   0|                 0.0|\n",
      "|  FIN|   268| 254|        43| 252| 0.07998200000000001|\n",
      "|  FIN|  1096|  62|         3| 252|            0.059201|\n",
      "|  FIN|   268| 254|        43| 252|            0.046445|\n",
      "|  FIN|   354| 254|        43| 252|            0.059368|\n",
      "+-----+------+----+----------+----+--------------------+\n",
      "only showing top 20 rows\n",
      "\n"
     ]
    }
   ],
   "source": [
    "sdf.select('State','dbytes','Sttl','ct_srv_src','Dttl','synack').show()"
   ]
  },
  {
   "cell_type": "code",
   "execution_count": null,
   "metadata": {},
   "outputs": [],
   "source": []
  },
  {
   "cell_type": "code",
   "execution_count": null,
   "metadata": {},
   "outputs": [],
   "source": []
  }
 ],
 "metadata": {
  "kernelspec": {
   "display_name": "Python 3",
   "language": "python",
   "name": "python3"
  },
  "language_info": {
   "codemirror_mode": {
    "name": "ipython",
    "version": 3
   },
   "file_extension": ".py",
   "mimetype": "text/x-python",
   "name": "python",
   "nbconvert_exporter": "python",
   "pygments_lexer": "ipython3",
   "version": "3.7.1"
  }
 },
 "nbformat": 4,
 "nbformat_minor": 2
}
